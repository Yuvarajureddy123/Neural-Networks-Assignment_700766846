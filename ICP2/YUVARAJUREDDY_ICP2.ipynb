{
  "nbformat": 4,
  "nbformat_minor": 0,
  "metadata": {
    "colab": {
      "provenance": [],
      "toc_visible": true
    },
    "kernelspec": {
      "name": "python3",
      "display_name": "Python 3"
    },
    "language_info": {
      "name": "python"
    }
  },
  "cells": [
    {
      "cell_type": "code",
      "execution_count": 5,
      "metadata": {
        "id": "6-sjbndEEOlo"
      },
      "outputs": [],
      "source": [
        "# Import Numpy Library\n",
        "import numpy as np"
      ]
    },
    {
      "cell_type": "markdown",
      "source": [
        "1. Create a class Employee and then do the following\n",
        "* Create a data member to count the number of Employees\n",
        "* Create a constructor to initialize name, family, salary, department\n",
        "* Create a function to average salary\n",
        "* Create a Fulltime Employee class and it should inherit the properties of Employee class\n"
      ],
      "metadata": {
        "id": "HfolRDiVEWOt"
      }
    },
    {
      "cell_type": "code",
      "source": [
        "# created class Employee\n",
        "class Employee():\n",
        "    # create data members to keep count of employee count and list of salaries\n",
        "    emp_count = 0\n",
        "\n",
        "    # constructor to initilize the variables\n",
        "    def __init__(self,name,family,salary,department):\n",
        "        self.name = name,\n",
        "        self.family = family,\n",
        "        self.salary = salary,\n",
        "        self.department = department,\n",
        "        Employee.emp_count += 1\n",
        "\n",
        "    # funtion to return average of salary\n",
        "    def avg_salary(employees:list):\n",
        "        # calculate salaries average\n",
        "        salaries_list = [emp.salary[0] for emp in employees]\n",
        "        # print(emp.salary[0] for emp in employees)\n",
        "        avg_sal = sum(salaries_list)/Employee.emp_count     # method 1 : generic\n",
        "        # avg_sal = np.mean(salaries_list)                      # method 2 : using numpy\n",
        "        return avg_sal\n",
        "\n",
        "# created FullTimeEmployee class and inherit the properties from Employee class\n",
        "class FullTimeEmployee(Employee):\n",
        "    def __init__(self,name,family,salary,department):\n",
        "        # calling parent class constructor\n",
        "        super().__init__(name,family,salary,department)\n",
        "\n",
        "employees = []\n",
        "employees.append(Employee(\"Yuvarajureddy\",\"Siripireddy\",40000,\"cyber security\"))\n",
        "employees.append(Employee(\"Keerthana\",\"Aluru\",74000,\"cs\"))\n",
        "\n",
        "employees.append(FullTimeEmployee(\"Yuvarajureddy\",\"Siripireddy\",50000,\"cyber security\"))\n",
        "employees.append(FullTimeEmployee(\"Jagadeesh\",\"Kethu\",84000,\"data analytics\"))\n",
        "\n",
        "\n",
        "print(\"using employee class\",Employee.avg_salary(employees))\n",
        "print(\"using fulltime employee class\",FullTimeEmployee.avg_salary(employees))"
      ],
      "metadata": {
        "colab": {
          "base_uri": "https://localhost:8080/"
        },
        "id": "o_JaEjvHE72H",
        "outputId": "03ae4da5-1c59-4b4b-a6ef-f42ba7dadb26"
      },
      "execution_count": 14,
      "outputs": [
        {
          "output_type": "stream",
          "name": "stdout",
          "text": [
            "using employee class 62000.0\n",
            "using fulltime employee class 62000.0\n"
          ]
        }
      ]
    },
    {
      "cell_type": "markdown",
      "source": [
        "2. Numpy\n",
        "Using NumPy create random vector of size 20 having only float in the range 1-20.\n",
        "* Then reshape the array to 4 by 5\n",
        "* Then replace the max in each row by 0 (axis=1)\n",
        "(you can NOT implement it via for loop)"
      ],
      "metadata": {
        "id": "LYKDaljjGS5I"
      }
    },
    {
      "cell_type": "code",
      "source": [
        "arr = np.random.uniform(1,20,20) # created a random vector of size 20 in the range of 1 - 20.\n",
        "arr = arr.reshape(4,5) # reshaped the vector to array of (4,5) shape"
      ],
      "metadata": {
        "id": "fOfobWAxGess"
      },
      "execution_count": 9,
      "outputs": []
    },
    {
      "cell_type": "code",
      "source": [
        "# Task : replace the max in each row by 0 (axis = 1)\n",
        "\n",
        "# print array before replacement\n",
        "print(\"Array before :\\n\\n\",arr,end=\"\\n\\n\\n\")\n",
        "\n",
        "# get max elements of each row and reshape it\n",
        "each_row_max = np.max(arr,axis = 1).reshape(-1,1)\n",
        "\n",
        "arr[arr == each_row_max] = 0\n",
        "\n",
        "# print array after replacement\n",
        "print(\"Array after replace the max element of each row with 0: \\n\\n\", arr)"
      ],
      "metadata": {
        "colab": {
          "base_uri": "https://localhost:8080/"
        },
        "id": "GYITI56gGqJN",
        "outputId": "18ed60c5-2ea9-4623-f637-09e1977a0fe7"
      },
      "execution_count": 13,
      "outputs": [
        {
          "output_type": "stream",
          "name": "stdout",
          "text": [
            "Array before :\n",
            "\n",
            " [[ 0.         10.47270375 14.30898255  0.          1.        ]\n",
            " [ 8.18150108  5.3580334   0.          0.          1.        ]\n",
            " [ 2.3707773   1.          1.92618971  0.          0.        ]\n",
            " [ 0.          0.          1.14557235  5.28044942  1.        ]]\n",
            "\n",
            "\n",
            "Array after replace the max element of each row with 0: \n",
            "\n",
            " [[ 0.         10.47270375  0.          0.          1.        ]\n",
            " [ 0.          5.3580334   0.          0.          1.        ]\n",
            " [ 0.          1.          1.92618971  0.          0.        ]\n",
            " [ 0.          0.          1.14557235  0.          1.        ]]\n"
          ]
        }
      ]
    },
    {
      "cell_type": "code",
      "source": [],
      "metadata": {
        "id": "skom_fk6Irmc"
      },
      "execution_count": null,
      "outputs": []
    },
    {
      "cell_type": "code",
      "source": [],
      "metadata": {
        "id": "VLJ8WoU1Iw1Y"
      },
      "execution_count": null,
      "outputs": []
    }
  ]
}